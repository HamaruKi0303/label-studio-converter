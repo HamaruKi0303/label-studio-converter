{
 "cells": [
  {
   "cell_type": "code",
   "execution_count": 1,
   "id": "2f2e46b3-47a8-4a02-86e8-40e44f2ea8dd",
   "metadata": {},
   "outputs": [
    {
     "name": "stdout",
     "output_type": "stream",
     "text": [
      "/home/jovyan/lstudio\n"
     ]
    }
   ],
   "source": [
    "!pwd"
   ]
  },
  {
   "cell_type": "code",
   "execution_count": 2,
   "id": "e910d361-6129-4af0-9cc5-8c7f4cd17aec",
   "metadata": {},
   "outputs": [
    {
     "name": "stdout",
     "output_type": "stream",
     "text": [
      "usage: label-studio-converter import coco [-h] -i INPUT [-o OUTPUT]\n",
      "                                          [--to-name TO_NAME]\n",
      "                                          [--from-name FROM_NAME]\n",
      "                                          [--out-type OUT_TYPE]\n",
      "                                          [--image-root-url IMAGE_ROOT_URL]\n",
      "                                          [--point-width POINT_WIDTH]\n",
      "\n",
      "options:\n",
      "  -h, --help            show this help message and exit\n",
      "  -i INPUT, --input INPUT\n",
      "                        directory with COCO where images, labels, notes.json\n",
      "                        are located\n",
      "  -o OUTPUT, --output OUTPUT\n",
      "                        output file with Label Studio JSON tasks\n",
      "  --to-name TO_NAME     object name from Label Studio labeling config\n",
      "  --from-name FROM_NAME\n",
      "                        control tag name from Label Studio labeling config\n",
      "  --out-type OUT_TYPE   annotation type - \"annotations\" or \"predictions\"\n",
      "  --image-root-url IMAGE_ROOT_URL\n",
      "                        root URL path where images will be hosted, e.g.:\n",
      "                        http://example.com/images\n",
      "  --point-width POINT_WIDTH\n",
      "                        key point width (size)\n"
     ]
    }
   ],
   "source": [
    "!label-studio-converter import coco -h  # just print help"
   ]
  },
  {
   "cell_type": "code",
   "execution_count": 3,
   "id": "b4888d14-a74c-4c63-a452-057446bdb252",
   "metadata": {},
   "outputs": [
    {
     "name": "stdout",
     "output_type": "stream",
     "text": [
      "/home/jovyan/lstudio/label-studio-converter\n"
     ]
    }
   ],
   "source": [
    "%cd /home/jovyan/lstudio/label-studio-converter/"
   ]
  },
  {
   "cell_type": "code",
   "execution_count": 4,
   "id": "ace5b3bb-504b-4e7b-a2f7-15deda13adf5",
   "metadata": {},
   "outputs": [
    {
     "name": "stdout",
     "output_type": "stream",
     "text": [
      "INFO:root:Reading COCO notes and categories from /home/jovyan/lstudio/Data/project-2-at-2023-01-04-23-01-694e0768/result.json\n",
      "INFO:root:Found 2 categories, 4 images and 4 annotations\n",
      "WARNING:root:Segmentation in COCO is experimental\n",
      "INFO:root:Saving Label Studio JSON to /home/jovyan/lstudio/label-studio-converter/output.json\n",
      "\n",
      "  1. Create a new project in Label Studio\n",
      "  2. Use Labeling Config from \"/home/jovyan/lstudio/label-studio-converter/output.label_config.xml\"\n",
      "  3. Setup serving for images [e.g. you can use Local Storage (or others):\n",
      "     https://labelstud.io/guide/storage.html#Local-storage]\n",
      "  4. Import \"/home/jovyan/lstudio/label-studio-converter/output.json\" to the project\n",
      "\n"
     ]
    }
   ],
   "source": [
    "!label-studio-converter import coco -i /home/jovyan/lstudio/Data/project-2-at-2023-01-04-23-01-694e0768/result.json -o output.json"
   ]
  }
 ],
 "metadata": {
  "kernelspec": {
   "display_name": "Python 3 (ipykernel)",
   "language": "python",
   "name": "python3"
  },
  "language_info": {
   "codemirror_mode": {
    "name": "ipython",
    "version": 3
   },
   "file_extension": ".py",
   "mimetype": "text/x-python",
   "name": "python",
   "nbconvert_exporter": "python",
   "pygments_lexer": "ipython3",
   "version": "3.10.8"
  }
 },
 "nbformat": 4,
 "nbformat_minor": 5
}
