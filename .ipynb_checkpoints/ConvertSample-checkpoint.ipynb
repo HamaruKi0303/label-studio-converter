{
 "cells": [
  {
   "cell_type": "code",
   "execution_count": 16,
   "id": "2f2e46b3-47a8-4a02-86e8-40e44f2ea8dd",
   "metadata": {},
   "outputs": [
    {
     "name": "stdout",
     "output_type": "stream",
     "text": [
      "/home/jovyan/lstudio/label-studio-converter\n"
     ]
    }
   ],
   "source": [
    "!pwd"
   ]
  },
  {
   "cell_type": "code",
   "execution_count": 2,
   "id": "e910d361-6129-4af0-9cc5-8c7f4cd17aec",
   "metadata": {},
   "outputs": [
    {
     "name": "stdout",
     "output_type": "stream",
     "text": [
      "usage: label-studio-converter import coco [-h] -i INPUT [-o OUTPUT]\n",
      "                                          [--to-name TO_NAME]\n",
      "                                          [--from-name FROM_NAME]\n",
      "                                          [--out-type OUT_TYPE]\n",
      "                                          [--image-root-url IMAGE_ROOT_URL]\n",
      "                                          [--point-width POINT_WIDTH]\n",
      "\n",
      "options:\n",
      "  -h, --help            show this help message and exit\n",
      "  -i INPUT, --input INPUT\n",
      "                        directory with COCO where images, labels, notes.json\n",
      "                        are located\n",
      "  -o OUTPUT, --output OUTPUT\n",
      "                        output file with Label Studio JSON tasks\n",
      "  --to-name TO_NAME     object name from Label Studio labeling config\n",
      "  --from-name FROM_NAME\n",
      "                        control tag name from Label Studio labeling config\n",
      "  --out-type OUT_TYPE   annotation type - \"annotations\" or \"predictions\"\n",
      "  --image-root-url IMAGE_ROOT_URL\n",
      "                        root URL path where images will be hosted, e.g.:\n",
      "                        http://example.com/images\n",
      "  --point-width POINT_WIDTH\n",
      "                        key point width (size)\n"
     ]
    }
   ],
   "source": [
    "!label-studio-converter import coco -h  # just print help"
   ]
  },
  {
   "cell_type": "code",
   "execution_count": 15,
   "id": "b4888d14-a74c-4c63-a452-057446bdb252",
   "metadata": {},
   "outputs": [
    {
     "name": "stdout",
     "output_type": "stream",
     "text": [
      "/home/jovyan/lstudio/label-studio-converter\n"
     ]
    }
   ],
   "source": [
    "%cd /home/jovyan/lstudio/label-studio-converter/"
   ]
  },
  {
   "cell_type": "code",
   "execution_count": 12,
   "id": "ace5b3bb-504b-4e7b-a2f7-15deda13adf5",
   "metadata": {},
   "outputs": [
    {
     "name": "stdout",
     "output_type": "stream",
     "text": [
      "/bin/bash: line 1: label-studio-converter: command not found\n"
     ]
    }
   ],
   "source": [
    "!label-studio-converter import coco -i /home/jovyan/lstudio/Data/project-2-at-2023-01-04-23-01-694e0768/result.json -o output.json"
   ]
  },
  {
   "cell_type": "code",
   "execution_count": 18,
   "id": "ed801215-1758-4633-95fe-e6f837d5fbe0",
   "metadata": {},
   "outputs": [
    {
     "ename": "ImportError",
     "evalue": "cannot import name 'coco' from 'label_studio_converter' (/home/jovyan/lstudio/label-studio-converter/label_studio_converter/__init__.py)",
     "output_type": "error",
     "traceback": [
      "\u001b[0;31m---------------------------------------------------------------------------\u001b[0m",
      "\u001b[0;31mImportError\u001b[0m                               Traceback (most recent call last)",
      "Cell \u001b[0;32mIn[18], line 1\u001b[0m\n\u001b[0;32m----> 1\u001b[0m \u001b[38;5;28;01mfrom\u001b[39;00m \u001b[38;5;21;01mlabel_studio_converter\u001b[39;00m \u001b[38;5;28;01mimport\u001b[39;00m coco\n",
      "\u001b[0;31mImportError\u001b[0m: cannot import name 'coco' from 'label_studio_converter' (/home/jovyan/lstudio/label-studio-converter/label_studio_converter/__init__.py)"
     ]
    }
   ],
   "source": [
    "from label_studio_converter import coco"
   ]
  },
  {
   "cell_type": "code",
   "execution_count": 7,
   "id": "411bd5a2-9fe4-495a-8338-d4b7bee49981",
   "metadata": {},
   "outputs": [],
   "source": [
    "!which label-studio-converter"
   ]
  },
  {
   "cell_type": "code",
   "execution_count": 6,
   "id": "771a34e7-97cb-48b9-9f47-a77828d9c91e",
   "metadata": {},
   "outputs": [],
   "source": [
    "!rm -rf /opt/conda/bin/label-studio-converter"
   ]
  }
 ],
 "metadata": {
  "kernelspec": {
   "display_name": "Python 3 (ipykernel)",
   "language": "python",
   "name": "python3"
  },
  "language_info": {
   "codemirror_mode": {
    "name": "ipython",
    "version": 3
   },
   "file_extension": ".py",
   "mimetype": "text/x-python",
   "name": "python",
   "nbconvert_exporter": "python",
   "pygments_lexer": "ipython3",
   "version": "3.10.8"
  }
 },
 "nbformat": 4,
 "nbformat_minor": 5
}
